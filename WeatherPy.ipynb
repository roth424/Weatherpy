{
 "cells": [
  {
   "cell_type": "markdown",
   "metadata": {},
   "source": [
    "# WeatherPy\n",
    "----\n",
    "\n",
    "#### Note\n",
    "* Instructions have been included for each segment. You do not have to follow them exactly, but they are included to help you think through the steps.\n",
    "\n",
    "Observable Trends\n",
    "1. The strongest correlation between one of the weather characteristics and equator is definitely Temperature.\n",
    "2.  Cities closest to the equator have the warmest temperatures.\n",
    "3.  Most of my random cities had at least 20% humidity, with the majority of those falling between 60 and 100% humidity\n",
    "4.  Cloudiness virtually has no correlation with the equator\n",
    "5.  The correlation with wind speed seemed to be very weak"
   ]
  },
  {
   "cell_type": "code",
   "execution_count": 1,
   "metadata": {
    "scrolled": true
   },
   "outputs": [
    {
     "name": "stdout",
     "output_type": "stream",
     "text": [
      "Requirement already satisfied: ratelimiter in c:\\users\\rothj\\appdata\\local\\conda\\conda\\envs\\pythondata37\\lib\\site-packages (1.2.0.post0)\n"
     ]
    },
    {
     "ename": "ImportError",
     "evalue": "cannot import name 'weather_key' from 'config' (C:\\Users\\rothj\\AppData\\Local\\conda\\conda\\envs\\PythonData37\\lib\\site-packages\\config.py)",
     "output_type": "error",
     "traceback": [
      "\u001b[1;31m---------------------------------------------------------------------------\u001b[0m",
      "\u001b[1;31mImportError\u001b[0m                               Traceback (most recent call last)",
      "\u001b[1;32m<ipython-input-1-28bd13304358>\u001b[0m in \u001b[0;36m<module>\u001b[1;34m\u001b[0m\n\u001b[0;32m     14\u001b[0m \u001b[1;33m\u001b[0m\u001b[0m\n\u001b[0;32m     15\u001b[0m \u001b[1;31m# Import API key\u001b[0m\u001b[1;33m\u001b[0m\u001b[1;33m\u001b[0m\u001b[1;33m\u001b[0m\u001b[0m\n\u001b[1;32m---> 16\u001b[1;33m \u001b[1;32mfrom\u001b[0m \u001b[0mconfig\u001b[0m \u001b[1;32mimport\u001b[0m \u001b[0mweather_key\u001b[0m\u001b[1;33m\u001b[0m\u001b[1;33m\u001b[0m\u001b[0m\n\u001b[0m\u001b[0;32m     17\u001b[0m \u001b[1;33m\u001b[0m\u001b[0m\n\u001b[0;32m     18\u001b[0m \u001b[1;31m# Incorporated citipy to determine city based on latitude and longitude\u001b[0m\u001b[1;33m\u001b[0m\u001b[1;33m\u001b[0m\u001b[1;33m\u001b[0m\u001b[0m\n",
      "\u001b[1;31mImportError\u001b[0m: cannot import name 'weather_key' from 'config' (C:\\Users\\rothj\\AppData\\Local\\conda\\conda\\envs\\PythonData37\\lib\\site-packages\\config.py)"
     ]
    }
   ],
   "source": [
    "# Dependencies and Setup\n",
    "!pip install ratelimiter\n",
    "import matplotlib.pyplot as plt\n",
    "import pandas as pd\n",
    "import numpy as np\n",
    "import requests as req\n",
    "import time\n",
    "import json\n",
    "import seaborn as sns\n",
    "import random\n",
    "from ratelimiter import RateLimiter\n",
    "from datetime import datetime\n",
    "import requests\n",
    "\n",
    "# Import API key\n",
    "from config import weather_key\n",
    "\n",
    "# Incorporated citipy to determine city based on latitude and longitude\n",
    "from citipy import citipy\n",
    "\n",
    "# Output File (CSV)\n",
    "output_data_file = \"cities.csv\"\n",
    "\n",
    "# Range of latitudes and longitudes\n",
    "lat_range = (-90, 90)\n",
    "lng_range = (-180, 180)"
   ]
  },
  {
   "cell_type": "code",
   "execution_count": null,
   "metadata": {},
   "outputs": [],
   "source": [
    "#Generate random lat/lon coordinates\n",
    "counter = 0\n",
    "rndlat=[]\n",
    "rndlon=[]\n",
    "\n",
    "while len(rndlat) < 750:\n",
    "    lat = np.random.uniform(-90, 90)\n",
    "    lon = np.random.uniform(-180,180)\n",
    "    rndlat.append(lat)\n",
    "    rndlon.append(lon)\n",
    "    counter += 1\n",
    " \n",
    "\n",
    "geo_df = pd.DataFrame ({\"lat\": rndlat, \"lon\":rndlon})\n",
    "geo_df.head()"
   ]
  },
  {
   "cell_type": "markdown",
   "metadata": {},
   "source": [
    "## Generate Cities List"
   ]
  },
  {
   "cell_type": "code",
   "execution_count": null,
   "metadata": {},
   "outputs": [],
   "source": [
    "#feed data to citipy\n",
    "city = []\n",
    "country = []\n",
    "\n",
    "\n",
    "for index, row in geo_df.iterrows():\n",
    "    city_lat=(row[\"lat\"])\n",
    "    city_lon=(row[\"lon\"])\n",
    "    city_name = citipy.nearest_city(city_lat, city_lon).city_name\n",
    "    country_code = citipy.nearest_city(city_lat, city_lon).country_code\n",
    "    city.append(city_name)\n",
    "    country.append(country_code)\n",
    "    \n",
    "city_df= pd.DataFrame ({\"city\": city, \"country\": country})\n",
    "city_df.drop_duplicates([\"city\", \"country\"])\n",
    "city_df.head()"
   ]
  },
  {
   "cell_type": "code",
   "execution_count": null,
   "metadata": {},
   "outputs": [],
   "source": [
    "weather_data=[]"
   ]
  },
  {
   "cell_type": "markdown",
   "metadata": {},
   "source": [
    "### Perform API Calls\n",
    "* Perform a weather check on each city using a series of successive API calls.\n",
    "* Include a print log of each city as it'sbeing processed (with the city number and city name).\n"
   ]
  },
  {
   "cell_type": "code",
   "execution_count": null,
   "metadata": {},
   "outputs": [],
   "source": [
    "\n",
    "#make API calls and collect data\n",
    "base_url=\"http://api.openweathermap.org/data/2.5/weather?\"\n",
    "units = \"imperial\"\n",
    "query_url = f\"{base_url}appid={weather_key}&units={units}&q=\"\n",
    "rate_limiter = RateLimiter(max_calls=50, period=60)\n",
    "\n",
    "for index, row in city_df.iterrows():\n",
    "    with rate_limiter:\n",
    "        city_q=row[\"city\"]\n",
    "        response = requests.get(query_url + city_q).json()\n",
    "        record_counter=1\n",
    "        try:\n",
    "            temp=response[\"main\"][\"temp\"]\n",
    "            humid=response[\"main\"][\"humidity\"]\n",
    "            cloud=response[\"clouds\"][\"all\"]\n",
    "            wind=response[\"wind\"][\"speed\"]\n",
    "            city_lat=response[\"coord\"][\"lat\"]\n",
    "            city_name=response[\"name\"]\n",
    "            city_country=response[\"sys\"][\"country\"]\n",
    "            weather_data.append({\"City\": city_name, \"Country\": city_country, \"Latitude\": city_lat,\n",
    "                                \"Temperature (F)\": temp, \"Humidity (%)\": humid, \"Cloudiness (%)\":cloud, \"Wind Speed (MPH)\": wind})\n",
    "            print (f\"Processing record #{record_counter} -- {city_q}\")\n",
    "            print (f'{base_url}appid=***masked***&units={units}&q={city_q}')\n",
    "            print (\"----------------------------------------------------------------\")\n",
    "            record_counter +=1\n",
    "        except:\n",
    "            print (f\"Weather for {city_q} not found.\")\n",
    "            print (\"----------------------------------------------------------------\")\n",
    "            continue"
   ]
  },
  {
   "cell_type": "code",
   "execution_count": null,
   "metadata": {},
   "outputs": [],
   "source": [
    "\n",
    "#get count of cities with collected data\n",
    "print (len(weather_data))"
   ]
  },
  {
   "cell_type": "markdown",
   "metadata": {},
   "source": [
    "### Convert Raw Data to DataFrame\n",
    "* Export the city data into a .csv.\n",
    "* Display the DataFrame"
   ]
  },
  {
   "cell_type": "code",
   "execution_count": null,
   "metadata": {},
   "outputs": [],
   "source": [
    "\n",
    "weather_df=pd.DataFrame(weather_data)\n",
    "weather_df=weather_df[[\"City\", \"Country\",\"Latitude\",\"Temperature (F)\", \"Humidity (%)\", \"Cloudiness (%)\", \"Wind Speed (MPH)\"]]\n",
    "weather_df.head()"
   ]
  },
  {
   "cell_type": "code",
   "execution_count": null,
   "metadata": {},
   "outputs": [],
   "source": [
    "\n",
    "weather_df.to_csv(\"weather_data.csv\")"
   ]
  },
  {
   "cell_type": "markdown",
   "metadata": {},
   "source": [
    "### Plotting the Data\n",
    "* Use proper labeling of the plots using plot titles (including date of analysis) and axes labels.\n",
    "* Save the plotted figures as .pngs."
   ]
  },
  {
   "cell_type": "markdown",
   "metadata": {},
   "source": [
    "#### Latitude vs. Temperature Plot"
   ]
  },
  {
   "cell_type": "code",
   "execution_count": null,
   "metadata": {},
   "outputs": [],
   "source": [
    "\n",
    "date = datetime.now()\n",
    "date = date.strftime(\"%m-%d-%Y\")\n",
    "\n",
    "plt.scatter(weather_df[\"Latitude\"], weather_df[\"Temperature (F)\"], alpha=.75, edgecolors=\"k\")\n",
    "plt.title(f\"City Latitude vs. Temperature ({date})\")\n",
    "plt.xlabel(\"Latitude ($^\\circ$)\")\n",
    "plt.ylabel(\"Temperature ($^\\circ$F)\")\n",
    "plt.grid(True) \n",
    "plt.tight_layout()\n",
    "plt.savefig(\"temp.png\")\n",
    "plt.show()"
   ]
  },
  {
   "cell_type": "markdown",
   "metadata": {},
   "source": [
    "#### Latitude vs. Humidity Plot"
   ]
  },
  {
   "cell_type": "code",
   "execution_count": null,
   "metadata": {},
   "outputs": [],
   "source": [
    "\n",
    "plt.scatter(weather_df[\"Latitude\"], weather_df[\"Humidity (%)\"], alpha=.75, edgecolors=\"k\")\n",
    "plt.title(f\"City Latitude vs. Humidity ({date})\")\n",
    "plt.xlabel(\"Latitude ($^\\circ$)\")\n",
    "plt.ylabel(\"Humidity (%)\")\n",
    "plt.grid(True) \n",
    "plt.tight_layout()\n",
    "plt.savefig(\"humidity.png\")\n",
    "plt.show()"
   ]
  },
  {
   "cell_type": "markdown",
   "metadata": {},
   "source": [
    "#### Latitude vs. Cloudiness Plot"
   ]
  },
  {
   "cell_type": "code",
   "execution_count": null,
   "metadata": {},
   "outputs": [],
   "source": [
    "plt.scatter(weather_df[\"Latitude\"], weather_df[\"Cloudiness (%)\"], alpha=.75, edgecolors=\"k\")\n",
    "plt.title(f\"City Latitude vs. Cloudiness ({date})\")\n",
    "plt.xlabel(\"Latitude ($^\\circ$)\")\n",
    "plt.ylabel(\"Cloudiness (%)\")\n",
    "plt.grid(True) \n",
    "plt.tight_layout()\n",
    "plt.savefig(\"clouds.png\")\n",
    "plt.show()"
   ]
  },
  {
   "cell_type": "markdown",
   "metadata": {},
   "source": [
    "#### Latitude vs. Wind Speed Plot"
   ]
  },
  {
   "cell_type": "code",
   "execution_count": null,
   "metadata": {},
   "outputs": [],
   "source": [
    "\n",
    "plt.scatter(weather_df[\"Latitude\"], weather_df[\"Wind Speed (MPH)\"], alpha=.75, edgecolors=\"k\")\n",
    "plt.title(f\"City Latitude vs. Wind Speed ({date})\")\n",
    "plt.xlabel(\"Latitude ($^\\circ$)\")\n",
    "plt.ylabel(\"Wind Speed (MPH)\")\n",
    "plt.grid(True) \n",
    "plt.tight_layout()\n",
    "plt.savefig(\"wind.png\")\n",
    "plt.show()"
   ]
  },
  {
   "cell_type": "code",
   "execution_count": null,
   "metadata": {},
   "outputs": [],
   "source": []
  },
  {
   "cell_type": "code",
   "execution_count": null,
   "metadata": {},
   "outputs": [],
   "source": []
  },
  {
   "cell_type": "code",
   "execution_count": null,
   "metadata": {},
   "outputs": [],
   "source": []
  }
 ],
 "metadata": {
  "anaconda-cloud": {},
  "kernel_info": {
   "name": "python3"
  },
  "kernelspec": {
   "display_name": "Python 3",
   "language": "python",
   "name": "python3"
  },
  "language_info": {
   "codemirror_mode": {
    "name": "ipython",
    "version": 3
   },
   "file_extension": ".py",
   "mimetype": "text/x-python",
   "name": "python",
   "nbconvert_exporter": "python",
   "pygments_lexer": "ipython3",
   "version": "3.7.3"
  },
  "nteract": {
   "version": "0.12.3"
  }
 },
 "nbformat": 4,
 "nbformat_minor": 2
}
